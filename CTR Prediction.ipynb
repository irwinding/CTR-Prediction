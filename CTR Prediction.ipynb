{
 "cells": [
  {
   "cell_type": "code",
   "execution_count": 1,
   "id": "dimensional-norman",
   "metadata": {},
   "outputs": [],
   "source": [
    "# import relevant libraries\n",
    "import pandas as pd\n",
    "import numpy as np\n",
    "import seaborn as sb\n",
    "import matplotlib.pyplot as plt\n",
    "sb.set()"
   ]
  },
  {
   "cell_type": "code",
   "execution_count": 2,
   "id": "sixth-singer",
   "metadata": {},
   "outputs": [],
   "source": [
    "# read train data\n",
    "train_df = pd.read_csv(\"train.csv\")\n",
    "\n",
    "#read test data\n",
    "test_df = pd.read_csv(\"test.csv\")"
   ]
  },
  {
   "cell_type": "code",
   "execution_count": 3,
   "id": "nonprofit-nerve",
   "metadata": {},
   "outputs": [
    {
     "data": {
      "text/html": [
       "<div>\n",
       "<style scoped>\n",
       "    .dataframe tbody tr th:only-of-type {\n",
       "        vertical-align: middle;\n",
       "    }\n",
       "\n",
       "    .dataframe tbody tr th {\n",
       "        vertical-align: top;\n",
       "    }\n",
       "\n",
       "    .dataframe thead th {\n",
       "        text-align: right;\n",
       "    }\n",
       "</style>\n",
       "<table border=\"1\" class=\"dataframe\">\n",
       "  <thead>\n",
       "    <tr style=\"text-align: right;\">\n",
       "      <th></th>\n",
       "      <th>session_id</th>\n",
       "      <th>DateTime</th>\n",
       "      <th>user_id</th>\n",
       "      <th>product</th>\n",
       "      <th>campaign_id</th>\n",
       "      <th>webpage_id</th>\n",
       "      <th>product_category_1</th>\n",
       "      <th>product_category_2</th>\n",
       "      <th>user_group_id</th>\n",
       "      <th>gender</th>\n",
       "      <th>age_level</th>\n",
       "      <th>user_depth</th>\n",
       "      <th>city_development_index</th>\n",
       "      <th>var_1</th>\n",
       "      <th>is_click</th>\n",
       "    </tr>\n",
       "  </thead>\n",
       "  <tbody>\n",
       "    <tr>\n",
       "      <th>0</th>\n",
       "      <td>140690</td>\n",
       "      <td>2017-07-02 00:00</td>\n",
       "      <td>858557</td>\n",
       "      <td>C</td>\n",
       "      <td>359520</td>\n",
       "      <td>13787</td>\n",
       "      <td>4</td>\n",
       "      <td>NaN</td>\n",
       "      <td>10.0</td>\n",
       "      <td>Female</td>\n",
       "      <td>4.0</td>\n",
       "      <td>3.0</td>\n",
       "      <td>3.0</td>\n",
       "      <td>0</td>\n",
       "      <td>0</td>\n",
       "    </tr>\n",
       "    <tr>\n",
       "      <th>1</th>\n",
       "      <td>333291</td>\n",
       "      <td>2017-07-02 00:00</td>\n",
       "      <td>243253</td>\n",
       "      <td>C</td>\n",
       "      <td>105960</td>\n",
       "      <td>11085</td>\n",
       "      <td>5</td>\n",
       "      <td>NaN</td>\n",
       "      <td>8.0</td>\n",
       "      <td>Female</td>\n",
       "      <td>2.0</td>\n",
       "      <td>2.0</td>\n",
       "      <td>NaN</td>\n",
       "      <td>0</td>\n",
       "      <td>0</td>\n",
       "    </tr>\n",
       "    <tr>\n",
       "      <th>2</th>\n",
       "      <td>129781</td>\n",
       "      <td>2017-07-02 00:00</td>\n",
       "      <td>243253</td>\n",
       "      <td>C</td>\n",
       "      <td>359520</td>\n",
       "      <td>13787</td>\n",
       "      <td>4</td>\n",
       "      <td>NaN</td>\n",
       "      <td>8.0</td>\n",
       "      <td>Female</td>\n",
       "      <td>2.0</td>\n",
       "      <td>2.0</td>\n",
       "      <td>NaN</td>\n",
       "      <td>0</td>\n",
       "      <td>0</td>\n",
       "    </tr>\n",
       "    <tr>\n",
       "      <th>3</th>\n",
       "      <td>464848</td>\n",
       "      <td>2017-07-02 00:00</td>\n",
       "      <td>1097446</td>\n",
       "      <td>I</td>\n",
       "      <td>359520</td>\n",
       "      <td>13787</td>\n",
       "      <td>3</td>\n",
       "      <td>NaN</td>\n",
       "      <td>3.0</td>\n",
       "      <td>Male</td>\n",
       "      <td>3.0</td>\n",
       "      <td>3.0</td>\n",
       "      <td>2.0</td>\n",
       "      <td>1</td>\n",
       "      <td>0</td>\n",
       "    </tr>\n",
       "    <tr>\n",
       "      <th>4</th>\n",
       "      <td>90569</td>\n",
       "      <td>2017-07-02 00:01</td>\n",
       "      <td>663656</td>\n",
       "      <td>C</td>\n",
       "      <td>405490</td>\n",
       "      <td>60305</td>\n",
       "      <td>3</td>\n",
       "      <td>NaN</td>\n",
       "      <td>2.0</td>\n",
       "      <td>Male</td>\n",
       "      <td>2.0</td>\n",
       "      <td>3.0</td>\n",
       "      <td>2.0</td>\n",
       "      <td>1</td>\n",
       "      <td>0</td>\n",
       "    </tr>\n",
       "  </tbody>\n",
       "</table>\n",
       "</div>"
      ],
      "text/plain": [
       "   session_id          DateTime  user_id product  campaign_id  webpage_id  \\\n",
       "0      140690  2017-07-02 00:00   858557       C       359520       13787   \n",
       "1      333291  2017-07-02 00:00   243253       C       105960       11085   \n",
       "2      129781  2017-07-02 00:00   243253       C       359520       13787   \n",
       "3      464848  2017-07-02 00:00  1097446       I       359520       13787   \n",
       "4       90569  2017-07-02 00:01   663656       C       405490       60305   \n",
       "\n",
       "   product_category_1  product_category_2  user_group_id  gender  age_level  \\\n",
       "0                   4                 NaN           10.0  Female        4.0   \n",
       "1                   5                 NaN            8.0  Female        2.0   \n",
       "2                   4                 NaN            8.0  Female        2.0   \n",
       "3                   3                 NaN            3.0    Male        3.0   \n",
       "4                   3                 NaN            2.0    Male        2.0   \n",
       "\n",
       "   user_depth  city_development_index  var_1  is_click  \n",
       "0         3.0                     3.0      0         0  \n",
       "1         2.0                     NaN      0         0  \n",
       "2         2.0                     NaN      0         0  \n",
       "3         3.0                     2.0      1         0  \n",
       "4         3.0                     2.0      1         0  "
      ]
     },
     "execution_count": 3,
     "metadata": {},
     "output_type": "execute_result"
    }
   ],
   "source": [
    "# first 5 rows of data\n",
    "train_df.head()"
   ]
  },
  {
   "cell_type": "code",
   "execution_count": 4,
   "id": "radical-grenada",
   "metadata": {},
   "outputs": [
    {
     "name": "stdout",
     "output_type": "stream",
     "text": [
      "<class 'pandas.core.frame.DataFrame'>\n",
      "RangeIndex: 463291 entries, 0 to 463290\n",
      "Data columns (total 15 columns):\n",
      " #   Column                  Non-Null Count   Dtype  \n",
      "---  ------                  --------------   -----  \n",
      " 0   session_id              463291 non-null  int64  \n",
      " 1   DateTime                463291 non-null  object \n",
      " 2   user_id                 463291 non-null  int64  \n",
      " 3   product                 463291 non-null  object \n",
      " 4   campaign_id             463291 non-null  int64  \n",
      " 5   webpage_id              463291 non-null  int64  \n",
      " 6   product_category_1      463291 non-null  int64  \n",
      " 7   product_category_2      97437 non-null   float64\n",
      " 8   user_group_id           445048 non-null  float64\n",
      " 9   gender                  445048 non-null  object \n",
      " 10  age_level               445048 non-null  float64\n",
      " 11  user_depth              445048 non-null  float64\n",
      " 12  city_development_index  338162 non-null  float64\n",
      " 13  var_1                   463291 non-null  int64  \n",
      " 14  is_click                463291 non-null  int64  \n",
      "dtypes: float64(5), int64(7), object(3)\n",
      "memory usage: 53.0+ MB\n"
     ]
    }
   ],
   "source": [
    "train_df.info()"
   ]
  },
  {
   "cell_type": "code",
   "execution_count": 5,
   "id": "adolescent-request",
   "metadata": {},
   "outputs": [
    {
     "name": "stdout",
     "output_type": "stream",
     "text": [
      "session_id                     0\n",
      "DateTime                       0\n",
      "user_id                        0\n",
      "product                        0\n",
      "campaign_id                    0\n",
      "webpage_id                     0\n",
      "product_category_1             0\n",
      "product_category_2        365854\n",
      "user_group_id              18243\n",
      "gender                     18243\n",
      "age_level                  18243\n",
      "user_depth                 18243\n",
      "city_development_index    125129\n",
      "var_1                          0\n",
      "is_click                       0\n",
      "dtype: int64\n"
     ]
    }
   ],
   "source": [
    "# check if data has null values\n",
    "print(train_df.isnull().sum())"
   ]
  },
  {
   "cell_type": "markdown",
   "id": "graphic-mattress",
   "metadata": {},
   "source": [
    "# First Prediction"
   ]
  },
  {
   "cell_type": "code",
   "execution_count": 6,
   "id": "ruled-attitude",
   "metadata": {},
   "outputs": [],
   "source": [
    "# goal is to predict \"is_click\"\n",
    "y_train = train_df['is_click']"
   ]
  },
  {
   "cell_type": "code",
   "execution_count": 7,
   "id": "northern-store",
   "metadata": {},
   "outputs": [],
   "source": [
    "# starter prediction with all the columns that are float64/int64 types and have no NA values\n",
    "x_train = train_df.iloc[:, 0:7]\n",
    "x_train['var_1'] = train_df['var_1']\n",
    "x_train = x_train.drop(['DateTime', 'product'], axis = 1)\n",
    "\n",
    "x_test = test_df.iloc[:, 0:7]\n",
    "x_test['var_1'] = test_df['var_1']\n",
    "x_test = x_test.drop(['DateTime', 'product'], axis = 1)"
   ]
  },
  {
   "cell_type": "code",
   "execution_count": 8,
   "id": "gross-administration",
   "metadata": {},
   "outputs": [
    {
     "data": {
      "text/plain": [
       "array([0, 0, 0, ..., 0, 0, 0])"
      ]
     },
     "execution_count": 8,
     "metadata": {},
     "output_type": "execute_result"
    }
   ],
   "source": [
    "# Logistic Regression\n",
    "from sklearn.linear_model import LogisticRegression\n",
    "\n",
    "Lr = LogisticRegression()\n",
    "Lr.fit(x_train, y_train)\n",
    "y_pred = Lr.predict(x_test)\n",
    "y_pred"
   ]
  },
  {
   "cell_type": "code",
   "execution_count": 9,
   "id": "checked-bibliography",
   "metadata": {},
   "outputs": [],
   "source": [
    "for i in y_pred:\n",
    "    if i == 1:\n",
    "        print(i)"
   ]
  },
  {
   "cell_type": "code",
   "execution_count": 10,
   "id": "disabled-entrepreneur",
   "metadata": {},
   "outputs": [
    {
     "name": "stdout",
     "output_type": "stream",
     "text": [
      "[[0.97014724 0.02985276]\n",
      " [0.75905282 0.24094718]\n",
      " [0.77516375 0.22483625]\n",
      " ...\n",
      " [0.90918847 0.09081153]\n",
      " [0.9522114  0.0477886 ]\n",
      " [0.95499532 0.04500468]]\n"
     ]
    }
   ],
   "source": [
    "y_pred_proba1 = Lr.predict_proba(x_test)\n",
    "print(y_pred_proba1)"
   ]
  },
  {
   "cell_type": "markdown",
   "id": "eligible-ancient",
   "metadata": {},
   "source": [
    "# Second Prediction"
   ]
  },
  {
   "cell_type": "code",
   "execution_count": 11,
   "id": "eight-socket",
   "metadata": {},
   "outputs": [],
   "source": [
    "# now only include data that has non NA gender inputs\n",
    "newtrain_df = train_df[train_df['gender'].notna()]\n",
    "newtest_df = test_df[test_df['gender'].notna()]"
   ]
  },
  {
   "cell_type": "code",
   "execution_count": 12,
   "id": "cutting-mission",
   "metadata": {},
   "outputs": [
    {
     "data": {
      "text/plain": [
       "session_id                     0\n",
       "DateTime                       0\n",
       "user_id                        0\n",
       "product                        0\n",
       "campaign_id                    0\n",
       "webpage_id                     0\n",
       "product_category_1             0\n",
       "product_category_2        351379\n",
       "user_group_id                  0\n",
       "gender                         0\n",
       "age_level                      0\n",
       "user_depth                     0\n",
       "city_development_index    106886\n",
       "var_1                          0\n",
       "is_click                       0\n",
       "dtype: int64"
      ]
     },
     "execution_count": 12,
     "metadata": {},
     "output_type": "execute_result"
    }
   ],
   "source": [
    "# seems like including non NA gender inputs cleared many other variables with NA inputs initially\n",
    "newtrain_df.isna().sum()"
   ]
  },
  {
   "cell_type": "code",
   "execution_count": 13,
   "id": "internal-treasure",
   "metadata": {},
   "outputs": [],
   "source": [
    "# exclude variables that still have NA inputs\n",
    "\n",
    "x_train = newtrain_df.drop(['DateTime', 'product', 'product_category_2', 'city_development_index', 'is_click'], axis = 1)\n",
    "x_test = newtest_df.drop(['DateTime', 'product', 'product_category_2', 'city_development_index'], axis = 1)"
   ]
  },
  {
   "cell_type": "code",
   "execution_count": 14,
   "id": "consecutive-egyptian",
   "metadata": {},
   "outputs": [],
   "source": [
    "# encoding dictionary\n",
    "cleanUpGender = {\n",
    "    \"gender\" : {\"Female\" : 0, \"Male\" : 1}\n",
    "}"
   ]
  },
  {
   "cell_type": "code",
   "execution_count": 15,
   "id": "heated-testing",
   "metadata": {},
   "outputs": [],
   "source": [
    "x_train = x_train.replace(cleanUpGender)\n",
    "x_test = x_test.replace(cleanUpGender)"
   ]
  },
  {
   "cell_type": "code",
   "execution_count": 16,
   "id": "adopted-moment",
   "metadata": {},
   "outputs": [],
   "source": [
    "y_train = newtrain_df['is_click']"
   ]
  },
  {
   "cell_type": "code",
   "execution_count": 17,
   "id": "crude-highway",
   "metadata": {},
   "outputs": [
    {
     "data": {
      "text/plain": [
       "array([0, 0, 0, ..., 0, 0, 0])"
      ]
     },
     "execution_count": 17,
     "metadata": {},
     "output_type": "execute_result"
    }
   ],
   "source": [
    "Lr.fit(x_train, y_train)\n",
    "y_pred = Lr.predict(x_test)\n",
    "y_pred"
   ]
  },
  {
   "cell_type": "code",
   "execution_count": 18,
   "id": "dramatic-trademark",
   "metadata": {},
   "outputs": [],
   "source": [
    "for i in y_pred:\n",
    "    if i == 1:\n",
    "        print(i)"
   ]
  },
  {
   "cell_type": "code",
   "execution_count": 19,
   "id": "drawn-opera",
   "metadata": {},
   "outputs": [
    {
     "name": "stdout",
     "output_type": "stream",
     "text": [
      "[[0.97034706 0.02965294]\n",
      " [0.92723876 0.07276124]\n",
      " [0.952961   0.047039  ]\n",
      " ...\n",
      " [0.90888603 0.09111397]\n",
      " [0.95232817 0.04767183]\n",
      " [0.95521607 0.04478393]]\n"
     ]
    }
   ],
   "source": [
    "y_pred_proba2 = Lr.predict_proba(x_test)\n",
    "print(y_pred_proba2)"
   ]
  },
  {
   "cell_type": "markdown",
   "id": "documentary-roulette",
   "metadata": {},
   "source": [
    "# Third Prediction"
   ]
  },
  {
   "cell_type": "code",
   "execution_count": 20,
   "id": "previous-settle",
   "metadata": {},
   "outputs": [
    {
     "data": {
      "text/plain": [
       "session_id                     0\n",
       "DateTime                       0\n",
       "user_id                        0\n",
       "product                        0\n",
       "campaign_id                    0\n",
       "webpage_id                     0\n",
       "product_category_1             0\n",
       "product_category_2        351379\n",
       "user_group_id                  0\n",
       "gender                         0\n",
       "age_level                      0\n",
       "user_depth                     0\n",
       "city_development_index    106886\n",
       "var_1                          0\n",
       "is_click                       0\n",
       "dtype: int64"
      ]
     },
     "execution_count": 20,
     "metadata": {},
     "output_type": "execute_result"
    }
   ],
   "source": [
    "newtrain_df.isna().sum()"
   ]
  },
  {
   "cell_type": "code",
   "execution_count": 21,
   "id": "weekly-carry",
   "metadata": {},
   "outputs": [],
   "source": [
    "newtrain_df2 = newtrain_df[newtrain_df['product_category_2'].notna()]\n",
    "newtrain_df3 = newtrain_df2[newtrain_df2['city_development_index'].notna()]"
   ]
  },
  {
   "cell_type": "code",
   "execution_count": 22,
   "id": "underlying-racing",
   "metadata": {},
   "outputs": [
    {
     "data": {
      "text/plain": [
       "session_id                0\n",
       "DateTime                  0\n",
       "user_id                   0\n",
       "product                   0\n",
       "campaign_id               0\n",
       "webpage_id                0\n",
       "product_category_1        0\n",
       "product_category_2        0\n",
       "user_group_id             0\n",
       "gender                    0\n",
       "age_level                 0\n",
       "user_depth                0\n",
       "city_development_index    0\n",
       "var_1                     0\n",
       "is_click                  0\n",
       "dtype: int64"
      ]
     },
     "execution_count": 22,
     "metadata": {},
     "output_type": "execute_result"
    }
   ],
   "source": [
    "# data set has no more NA values\n",
    "newtrain_df3.isna().sum()"
   ]
  },
  {
   "cell_type": "code",
   "execution_count": 23,
   "id": "civil-longitude",
   "metadata": {},
   "outputs": [],
   "source": [
    "newtrain_df3 = newtrain_df3.drop(['DateTime'], axis = 1)"
   ]
  },
  {
   "cell_type": "code",
   "execution_count": 24,
   "id": "forty-winter",
   "metadata": {},
   "outputs": [],
   "source": [
    "# encoding product and gender variable using label encoding\n",
    "\n",
    "newtrain_df3['product'] = newtrain_df3['product'].astype('category')\n",
    "newtrain_df3['gender'] = newtrain_df3['gender'].astype('category')\n",
    "\n",
    "newtrain_df3['product'] = newtrain_df3['product'].cat.codes\n",
    "newtrain_df3['gender'] = newtrain_df3['gender'].cat.codes"
   ]
  },
  {
   "cell_type": "code",
   "execution_count": 25,
   "id": "boolean-xerox",
   "metadata": {},
   "outputs": [],
   "source": [
    "# prepare our training data sets\n",
    "x_train = newtrain_df3.drop(['is_click'], axis = 1)\n",
    "y_train = newtrain_df3['is_click']"
   ]
  },
  {
   "cell_type": "code",
   "execution_count": 26,
   "id": "legitimate-harvard",
   "metadata": {},
   "outputs": [
    {
     "data": {
      "text/plain": [
       "session_id                    0\n",
       "DateTime                      0\n",
       "user_id                       0\n",
       "product                       0\n",
       "campaign_id                   0\n",
       "webpage_id                    0\n",
       "product_category_1            0\n",
       "product_category_2        72568\n",
       "user_group_id                 0\n",
       "gender                        0\n",
       "age_level                     0\n",
       "user_depth                    0\n",
       "city_development_index    28925\n",
       "var_1                         0\n",
       "dtype: int64"
      ]
     },
     "execution_count": 26,
     "metadata": {},
     "output_type": "execute_result"
    }
   ],
   "source": [
    "newtest_df.isna().sum()"
   ]
  },
  {
   "cell_type": "code",
   "execution_count": 27,
   "id": "conservative-module",
   "metadata": {},
   "outputs": [],
   "source": [
    "newtest_df2 = newtest_df[newtest_df['product_category_2'].notna()]\n",
    "newtest_df3 = newtest_df2[newtest_df2['city_development_index'].notna()]"
   ]
  },
  {
   "cell_type": "code",
   "execution_count": 28,
   "id": "outdoor-difficulty",
   "metadata": {},
   "outputs": [
    {
     "data": {
      "text/plain": [
       "session_id                0\n",
       "DateTime                  0\n",
       "user_id                   0\n",
       "product                   0\n",
       "campaign_id               0\n",
       "webpage_id                0\n",
       "product_category_1        0\n",
       "product_category_2        0\n",
       "user_group_id             0\n",
       "gender                    0\n",
       "age_level                 0\n",
       "user_depth                0\n",
       "city_development_index    0\n",
       "var_1                     0\n",
       "dtype: int64"
      ]
     },
     "execution_count": 28,
     "metadata": {},
     "output_type": "execute_result"
    }
   ],
   "source": [
    "# test set has no more NA values\n",
    "newtest_df3.isna().sum()"
   ]
  },
  {
   "cell_type": "code",
   "execution_count": 29,
   "id": "vulnerable-bunch",
   "metadata": {},
   "outputs": [],
   "source": [
    "# prepare our test set\n",
    "x_test = newtest_df3.drop(['DateTime'], axis = 1)\n",
    "x_test['product'] = x_test['product'].astype('category').cat.codes\n",
    "x_test['gender'] = x_test['gender'].astype('category').cat.codes"
   ]
  },
  {
   "cell_type": "code",
   "execution_count": 30,
   "id": "distributed-reasoning",
   "metadata": {},
   "outputs": [
    {
     "data": {
      "text/plain": [
       "array([0, 0, 0, ..., 0, 0, 0])"
      ]
     },
     "execution_count": 30,
     "metadata": {},
     "output_type": "execute_result"
    }
   ],
   "source": [
    "Lr.fit(x_train, y_train)\n",
    "y_pred = Lr.predict(x_test)\n",
    "y_pred"
   ]
  },
  {
   "cell_type": "code",
   "execution_count": 31,
   "id": "protective-vacuum",
   "metadata": {},
   "outputs": [],
   "source": [
    "for i in y_pred:\n",
    "    if i == 1:\n",
    "        print(i)"
   ]
  },
  {
   "cell_type": "code",
   "execution_count": 32,
   "id": "chubby-police",
   "metadata": {},
   "outputs": [
    {
     "name": "stdout",
     "output_type": "stream",
     "text": [
      "[[0.94885373 0.05114627]\n",
      " [0.94903801 0.05096199]\n",
      " [0.96673402 0.03326598]\n",
      " ...\n",
      " [0.86168118 0.13831882]\n",
      " [0.94931068 0.05068932]\n",
      " [0.94107684 0.05892316]]\n"
     ]
    }
   ],
   "source": [
    "y_pred_proba3 = Lr.predict_proba(x_test)\n",
    "print(y_pred_proba3)"
   ]
  },
  {
   "cell_type": "code",
   "execution_count": 34,
   "id": "colonial-congress",
   "metadata": {},
   "outputs": [
    {
     "name": "stdout",
     "output_type": "stream",
     "text": [
      "//First Prediction Probability//\n",
      "[[0.97014724 0.02985276]\n",
      " [0.75905282 0.24094718]\n",
      " [0.77516375 0.22483625]\n",
      " ...\n",
      " [0.90918847 0.09081153]\n",
      " [0.9522114  0.0477886 ]\n",
      " [0.95499532 0.04500468]]\n",
      "//Second Prediction Probability//\n",
      "[[0.97034706 0.02965294]\n",
      " [0.92723876 0.07276124]\n",
      " [0.952961   0.047039  ]\n",
      " ...\n",
      " [0.90888603 0.09111397]\n",
      " [0.95232817 0.04767183]\n",
      " [0.95521607 0.04478393]]\n",
      "//Third Prediction Probability//\n",
      "[[0.94885373 0.05114627]\n",
      " [0.94903801 0.05096199]\n",
      " [0.96673402 0.03326598]\n",
      " ...\n",
      " [0.86168118 0.13831882]\n",
      " [0.94931068 0.05068932]\n",
      " [0.94107684 0.05892316]]\n"
     ]
    }
   ],
   "source": [
    "print(\"//First Prediction Probability//\")\n",
    "print(y_pred_proba1)\n",
    "\n",
    "print(\"//Second Prediction Probability//\")\n",
    "print(y_pred_proba2)\n",
    "\n",
    "print(\"//Third Prediction Probability//\")\n",
    "print(y_pred_proba3)"
   ]
  },
  {
   "cell_type": "code",
   "execution_count": null,
   "id": "built-alpha",
   "metadata": {},
   "outputs": [],
   "source": []
  }
 ],
 "metadata": {
  "kernelspec": {
   "display_name": "Python 3",
   "language": "python",
   "name": "python3"
  },
  "language_info": {
   "codemirror_mode": {
    "name": "ipython",
    "version": 3
   },
   "file_extension": ".py",
   "mimetype": "text/x-python",
   "name": "python",
   "nbconvert_exporter": "python",
   "pygments_lexer": "ipython3",
   "version": "3.7.9"
  }
 },
 "nbformat": 4,
 "nbformat_minor": 5
}
